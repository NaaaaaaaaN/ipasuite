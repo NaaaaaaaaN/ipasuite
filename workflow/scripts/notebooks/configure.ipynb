{
 "cells": [
  {
   "cell_type": "code",
   "execution_count": 1,
   "id": "66805177",
   "metadata": {},
   "outputs": [],
   "source": [
    "import ipywidgets as widgets\n",
    "import yaml as yaml\n",
    "from dataclasses import dataclass"
   ]
  },
  {
   "cell_type": "code",
   "execution_count": 2,
   "id": "07ee360f",
   "metadata": {},
   "outputs": [
    {
     "name": "stdout",
     "output_type": "stream",
     "text": [
      "{'samples': 'config/samples.didy.tsv', 'sequences': {'didymium': 'resources/didymium.fa'}, 'conditions': ['probe', 'temperature', 'magnesium'], 'allow_auto_import': True, 'results_dir': 'results.didy', 'resource_dir': 'resources.didy', 'format': {'condition': '{probe}_{temperature}C_{magnesium}', 'control_condition': '{control}_of_{probe}_{temperature}C_{magnesium}', 'message': '{wildcards.rna_id} with {wildcards.probe} at {wildcards.temperature}C {wildcards.magnesium}'}, 'rawdata': {'path_prefix': '../../biodata/didymium/', 'type': 'fluo-ce', 'control': 'DMSO'}, 'probe': {'1M7': {'reactive_nucleotides': ['A', 'C', 'G', 'U']}, 'BzCN': {'reactive_nucleotides': ['A', 'C', 'G', 'U']}, 'NMIA': {'reactive_nucleotides': ['A', 'C', 'G', 'U']}, 'NIA': {'reactive_nucleotides': ['A', 'C', 'G', 'U']}, 'DMS': {'reactive_nucleotides': ['A', 'C']}, 'CMCT': {'reactive_nucleotides': ['G', 'U']}}, 'qushape': {'use_subsequence': False, 'channels': {'RX': 0, 'RXS1': 2, 'BG': 0, 'BGS1': 2}}, 'normalization': {'reactive_nucleotides': ['A', 'C', 'G', 'U'], 'stop_percentile': 90.0, 'low_norm_reactivity_threshold': -0.3, 'norm_methods': ['simple', 'interquartile'], 'simple_outlier_percentile': 98.0, 'simple_norm_term_avg_percentile': 90.0}, 'aggregate': {'norm_method': 'simple', 'min_ndata_perc': 0.5, 'min_nsubdata_perc': 0.66, 'max_mean_perc': 0.682, 'min_dispersion': 0.05}, 'ipanemap': {'pools': [{'id': '1M7_NMIA_BzCN_37_Mg', 'rna_id': 'didymium', 'conditions': [{'temperature': 37, 'magnesium': 'Mg', 'probe': '1M7'}, {'temperature': 37, 'magnesium': 'Mg', 'probe': 'NMIA'}, {'temperature': 37, 'magnesium': 'Mg', 'probe': 'BzCN'}]}, {'id': '1M7_37_Mg', 'rna_id': 'didymium', 'conditions': [{'temperature': 37, 'magnesium': 'Mg', 'probe': '1M7'}]}, {'id': 'NMIA_37_Mg', 'rna_id': 'didymium', 'conditions': [{'temperature': 37, 'magnesium': 'Mg', 'probe': 'NMIA'}]}, {'id': 'BzCN_37_Mg', 'rna_id': 'didymium', 'conditions': [{'temperature': 37, 'magnesium': 'Mg', 'probe': 'BzCN'}]}], 'config': {'sampling': {'enable': True, 'nstructure': 1000, 'temperature': 37, 'slope': 1.3, 'intercept': -0.4}, 'clustering': {'max_diam': 7, 'max_avg_diam': 7}, 'pareto': {'percentage': 20, 'zcutoff': 0.05}, 'visual': {'models': True, 'centroids': True, 'probing': True}}}, 'footprint': {'compares': [{'id': '1M7_Mg_noMg', 'rna_id': 'didymium', 'condition1': {'temperature': 37, 'magnesium': 'Mg', 'probe': '1M7'}, 'condition2': {'temperature': 37, 'magnesium': 'noMg', 'probe': '1M7'}}], 'config': {'deviation_type': 'stdev', 'ttest_pvalue_thres': 0.01, 'diff_thres': 0.2, 'ratio_thres': 0.2, 'plot_format': 'svg'}}, 'varna': {'colormapstyle': '-10.00:#CCCCCC,-0.31:#999999,-0.3:#FFFFFF,0.2:#FFFFFF,0.4:#FFFF00,0.69:#FFFF47,0.7:#FF0000,5.00:#FF0033'}, 'folders': {'fluo-ceq8000': '1.1-fluo-ceq8000', 'fluo-ce': '1.2-fluo-ce', 'subseq': '1.3-subseq', 'qushape': '2-qushape', 'reactivity': '3.1-reactivity', 'normreact': '3.2-normreact', 'alignnormreact': '3.3-align-normreact', 'aggreact': '4.1-aggreact', 'aggreact-ipanemap': '4.2-aggreact-ipanemap', 'ipanemap-config': '5.1-ipanemap-config', 'ipanemap-out': '5.2-ipanemap-out', 'structure': '5.3-structure', 'varna': '5.4-varna', 'footprint': '5.5-footprint'}}\n"
     ]
    }
   ],
   "source": [
    "base_dir = \"../../..\"\n",
    "config_tpl_path = f\"{base_dir}/config/config.tpl.yaml\"\n",
    "config_path = f\"{base_dir}/config/config.didy.yaml\"\n",
    "\n",
    "with open(config_tpl_path, \"r\") as config_tpl_fd:\n",
    "    config_tpl = yaml.safe_load(config_tpl_fd)\n",
    "    \n",
    "\n",
    "with open(config_path, \"r\") as config_fd:\n",
    "    config = yaml.safe_load(config_fd)\n",
    "print(config)"
   ]
  },
  {
   "cell_type": "code",
   "execution_count": 14,
   "id": "e9b1283e",
   "metadata": {},
   "outputs": [
    {
     "data": {
      "application/vnd.jupyter.widget-view+json": {
       "model_id": "8d2aaeb3b2c8413faadf6133782cc82c",
       "version_major": 2,
       "version_minor": 0
      },
      "text/plain": [
       "Accordion(children=(VBox(children=(HTML(value='The full sequence of the studied RNA in fasta format.The fasta …"
      ]
     },
     "metadata": {},
     "output_type": "display_data"
    }
   ],
   "source": [
    "@dataclass\n",
    "class ConfigViewer():\n",
    "    config : dict\n",
    "    \n",
    "    \n",
    "    def init_view(self):\n",
    "        \n",
    "        seq_list = self.init_seq_list()\n",
    "        cond_list = self.init_conditions()\n",
    "        \n",
    "        accordion = widgets.Accordion(children=[seq_list, cond_list])\n",
    "        titles=['Sequences','Conditions']\n",
    "        for i in range(len(accordion.children)):\n",
    "            accordion.set_title(i, titles[i])\n",
    "        display(accordion)\n",
    "\n",
    "    \n",
    "    \n",
    "    def init_seq_list(self):\n",
    "        for seq_name, seq_file in self.config[\"sequences\"].items():\n",
    "            rows = [widgets.HTML(value=\"The full sequence of the studied RNA in fasta format.\"\n",
    "                    \"The fasta file should contain a description line containing the origin of the sequence\"\n",
    "                    \"(sequence database) with its unique identifier\",\n",
    ")]\n",
    "            seq_name_wg = widgets.Text(\n",
    "                value=seq_name,\n",
    "                placeholder='A sequence',\n",
    "                description='',\n",
    "                disabled=False\n",
    "            )\n",
    "            seq_file_wg = widgets.Text(\n",
    "                value=seq_file)\n",
    "            rows.append(widgets.HBox([seq_name_wg,seq_file_wg]))\n",
    "            \n",
    "        rows.append(widgets.Button(description=\"Add Sequence\", icon=\"plus\"))\n",
    "        \n",
    "        return widgets.VBox(rows)\n",
    "    \n",
    "    def init_conditions(self):\n",
    "        conds = [widgets.HTML(value=\"Tested parameters\")]\n",
    "        for cond in self.config[\"conditions\"]:\n",
    "            cond_wg = widgets.Text(\n",
    "                value=cond,\n",
    "                placeholder='condition_name',\n",
    "                description='',\n",
    "                disabled=False\n",
    "            )\n",
    "            conds.append(cond_wg)\n",
    "        \n",
    "        conds.append(widgets.Button(description=\"Add Condition\", icon=\"plus\"))\n",
    "        return widgets.VBox(conds)\n",
    "        \n",
    "    def init_formatting(self):\n",
    "        form = [widgets.HTML(value=\"File naming scheme \")]\n",
    "        form.append()\n",
    "        seq_file_wg = widgets.Text(\n",
    "                l\n",
    "                value=seq_file)\n",
    "\n",
    "        \n",
    "ConfigViewer(config).init_view()"
   ]
  },
  {
   "cell_type": "markdown",
   "id": "b0591e3d",
   "metadata": {},
   "source": [
    "- Sequences\n",
    "- Conditions\n",
    "  - With accepted values\n",
    "- Use subsequences\n",
    "- Ipanemap pools (all vs some)\n",
    "- footprint compares (all vs some)\n",
    "\n"
   ]
  },
  {
   "cell_type": "code",
   "execution_count": null,
   "id": "9f2f09b0",
   "metadata": {},
   "outputs": [],
   "source": []
  }
 ],
 "metadata": {
  "kernelspec": {
   "display_name": "Python 3 (ipykernel)",
   "language": "python",
   "name": "python3"
  },
  "language_info": {
   "codemirror_mode": {
    "name": "ipython",
    "version": 3
   },
   "file_extension": ".py",
   "mimetype": "text/x-python",
   "name": "python",
   "nbconvert_exporter": "python",
   "pygments_lexer": "ipython3",
   "version": "3.9.5"
  }
 },
 "nbformat": 4,
 "nbformat_minor": 5
}

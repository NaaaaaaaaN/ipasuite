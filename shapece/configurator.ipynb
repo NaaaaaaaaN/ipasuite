{
 "cells": [
  {
   "cell_type": "code",
   "execution_count": 2,
   "id": "66805177",
   "metadata": {},
   "outputs": [],
   "source": [
    "import ipywidgets as widgets\n",
    "import yaml as yaml\n",
    "from dataclasses import dataclass\n",
    "from IPython.display import display\n",
    "\n",
    "#print(widgets.__version__)"
   ]
  },
  {
   "cell_type": "code",
   "execution_count": 3,
   "id": "07ee360f",
   "metadata": {},
   "outputs": [],
   "source": [
    "base_dir = \"/home/fxlyonnet/repos/shape-ce/examples\"\n",
    "config_tpl_path = f\"{base_dir}/config/config.tpl.yaml\"\n",
    "config_path = f\"{base_dir}/config/config.didytest.yaml\"\n",
    "\n",
    "with open(config_tpl_path, \"r\") as config_tpl_fd:\n",
    "    config_tpl = yaml.safe_load(config_tpl_fd)\n",
    "    \n",
    "\n",
    "with open(config_path, \"r\") as config_fd:\n",
    "    config = yaml.safe_load(config_fd)\n",
    "\n",
    "#print(yaml.dump(config))"
   ]
  },
  {
   "cell_type": "code",
   "execution_count": 4,
   "id": "e9b1283e",
   "metadata": {},
   "outputs": [
    {
     "data": {
      "application/vnd.jupyter.widget-view+json": {
       "model_id": "7a88d4385bdd425e8ac1f7e783906691",
       "version_major": 2,
       "version_minor": 0
      },
      "text/plain": [
       "VBox(children=(VBox(children=(HTML(value='<h1>Shape-CE pipeline configurator</h1><h2>General settings</h2>'), …"
      ]
     },
     "metadata": {},
     "output_type": "display_data"
    }
   ],
   "source": [
    "@dataclass\n",
    "class ConfigViewer():\n",
    "    config : dict\n",
    "    \n",
    "    def init_view(self):\n",
    "        \n",
    "        gen_list = self.init_general()\n",
    "        sub_list = self.init_subsequence()\n",
    "        seq_list = self.init_seq_list()\n",
    "        cond_list = self.init_conditions()\n",
    "        \n",
    "        accordion = widgets.Accordion(children=[sub_list, seq_list, cond_list])\n",
    "        titles=['Sub-Sequence', 'Sequences','Conditions']\n",
    "        for i in range(len(accordion.children)):\n",
    "            accordion.set_title(i, titles[i])\n",
    "        \n",
    "        self.view = widgets.VBox([gen_list,accordion])\n",
    "\n",
    "        return self.view\n",
    "    \n",
    "    \n",
    "    def init_seq_list(self):\n",
    "        for seq_name, seq_file in self.config[\"sequences\"].items():\n",
    "            rows = [widgets.HTML(value=\"The full sequence of the studied RNA in fasta format.\"\n",
    "                    \"The fasta file should contain a description line containing the origin of the sequence\"\n",
    "                    \"(sequence database) with its unique identifier\",\n",
    ")]\n",
    "            seq_name_wg = widgets.Text(value=seq_name,\n",
    "                placeholder='A sequence',\n",
    "                description='',\n",
    "                disabled=False\n",
    "            )\n",
    "            seq_file_wg = widgets.Text(\n",
    "                value=seq_file)\n",
    "            rows.append(widgets.HBox([seq_name_wg,seq_file_wg]))\n",
    "            \n",
    "        rows.append(widgets.Button(description=\"Add Sequence\", icon=\"plus\"))\n",
    "        \n",
    "        return widgets.VBox(rows)\n",
    "    \n",
    "    def init_conditions(self):\n",
    "        self.conditions = []\n",
    "        for cond, vals in self.config[\"conditions\"].items():\n",
    "            cond_wg = widgets.Text(\n",
    "                value=cond,\n",
    "                placeholder='condition_name',\n",
    "                description='',\n",
    "                disabled=False\n",
    "            )\n",
    "            #tags = widgets.TagsInput(\n",
    "            #    value=[str(val) for val in vals],\n",
    "            #    allow_duplicates=False)\n",
    "            \n",
    "            self.conditions.append(widgets.HBox([cond_wg]))\n",
    "        \n",
    "        \n",
    "        widgets.HTML(value=\"Tested parameters\")]\n",
    "        conds.append(widgets.Button(description=\"Add Condition\", icon=\"plus\"))\n",
    "        return widgets.VBox(conds)\n",
    "    \n",
    "        \n",
    "    def init_formatting(self):\n",
    "        form = [widgets.HTML(value=\"File naming scheme \")]\n",
    "        form.append()\n",
    "        seq_file_wg = widgets.Text(        \n",
    "                value=seq_file)\n",
    "\n",
    "    #def init_ipanemap(self):\n",
    "        \n",
    "        \n",
    "    #def init_footprint(self):\n",
    "        \n",
    "\n",
    "    def init_general(self):\n",
    "        gen = [widgets.HTML(value=\"<h1>Shape-CE pipeline configurator</h1><h2>General settings</h2>\")]\n",
    "        gen.append(widgets.Text(description=\"Project Name\"))\n",
    "        return widgets.VBox(gen)\n",
    "    \n",
    "    \n",
    "    def init_subsequence(self):\n",
    "        gen = []\n",
    "        gen.append(widgets.HTML(value=\"When appling shape-ce method on large RNA, you might need use several reverse transcription starting points, in order to get reactivity along the entire sequence. If so you need to activate «use sub-sequence»\"))\n",
    "        gen.append(widgets.Checkbox(description=\"Use subsequence\", value=False))\n",
    "        \n",
    "        return widgets.VBox(gen)\n",
    "        \n",
    "viewer = ConfigViewer(config)\n",
    "viewer.init_view()\n",
    "display(viewer.view)\n",
    "\n"
   ]
  },
  {
   "cell_type": "code",
   "execution_count": 18,
   "id": "d8abdcf4",
   "metadata": {},
   "outputs": [],
   "source": [
    "#- General:\n",
    "#    - Project name\n",
    "#    \n",
    "#    - subsequences\n",
    "    \n",
    "#- Sequences\n",
    "#- Conditions\n",
    "#  - With accepted values\n",
    "#- Use subsequences\n",
    "#- Ipanemap pools (all vs some)\n",
    "#- footprint compares (all vs some)\n",
    "\n"
   ]
  },
  {
   "cell_type": "code",
   "execution_count": null,
   "id": "2dc5282d",
   "metadata": {},
   "outputs": [],
   "source": []
  }
 ],
 "metadata": {
  "kernelspec": {
   "display_name": "Python 3 (ipykernel)",
   "language": "python",
   "name": "python3"
  },
  "language_info": {
   "codemirror_mode": {
    "name": "ipython",
    "version": 3
   },
   "file_extension": ".py",
   "mimetype": "text/x-python",
   "name": "python",
   "nbconvert_exporter": "python",
   "pygments_lexer": "ipython3",
   "version": "3.10.4"
  }
 },
 "nbformat": 4,
 "nbformat_minor": 5
}
